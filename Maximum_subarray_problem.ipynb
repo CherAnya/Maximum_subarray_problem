{
 "cells": [
  {
   "cell_type": "code",
   "execution_count": 122,
   "metadata": {},
   "outputs": [
    {
     "name": "stdout",
     "output_type": "stream",
     "text": [
      "How many elements: 5\n",
      "Enter array element:\n",
      "Number: 0\n",
      "Number: 0\n",
      "Number: 6\n",
      "Number: 1\n",
      "Number: -8\n",
      "array('i', [6, 1])\n"
     ]
    }
   ],
   "source": [
    "import numpy as np\n",
    "from array import *\n",
    "\n",
    "num_array = list()\n",
    "num = input(\"How many elements: \")\n",
    "print ('Enter array element:')\n",
    "for i in range(int(num)):\n",
    "    n = input(\"Number: \")\n",
    "    num_array.append(int(n))\n",
    "A = array('i', num_array)\n",
    "\n",
    "def findMaxSubArray(A):\n",
    "    summ = 0\n",
    "    subtotal = 0\n",
    "    pos_1 = 0\n",
    "    pos_2 = 0\n",
    "    max_pos = 0\n",
    "    position = 0\n",
    "    num = len(A)\n",
    "    for i in range(num):\n",
    "        max_pos = i\n",
    "        if subtotal <= 0:\n",
    "            subtotal = A[i]\n",
    "            min_pos = max_pos\n",
    "        else:\n",
    "            subtotal += A[i]\n",
    "        if subtotal >= summ:\n",
    "            summ = subtotal\n",
    "            pos_1 = min_pos\n",
    "            pos_2 = max_pos + 1\n",
    "    if summ != 0:\n",
    "        print(A[pos_1:pos_2])\n",
    "    if summ == 0:\n",
    "        for j in range(num):\n",
    "            a = max(A)\n",
    "            if A[j] == a:\n",
    "                position = j\n",
    "        print(A[position])\n",
    "findMaxSubArray(A)"
   ]
  }
 ],
 "metadata": {
  "kernelspec": {
   "display_name": "Python 3",
   "language": "python",
   "name": "python3"
  },
  "language_info": {
   "codemirror_mode": {
    "name": "ipython",
    "version": 3
   },
   "file_extension": ".py",
   "mimetype": "text/x-python",
   "name": "python",
   "nbconvert_exporter": "python",
   "pygments_lexer": "ipython3",
   "version": "3.7.3"
  }
 },
 "nbformat": 4,
 "nbformat_minor": 2
}
